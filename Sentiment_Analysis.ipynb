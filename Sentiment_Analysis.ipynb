{
  "nbformat": 4,
  "nbformat_minor": 0,
  "metadata": {
    "colab": {
      "name": "Sentiment_Analysis.ipynb",
      "provenance": [],
      "collapsed_sections": [
        "fMbLBf06jrcO",
        "81tYf1TI3ze0",
        "4wToWjHj31Is"
      ],
      "machine_shape": "hm",
      "authorship_tag": "ABX9TyNvDo030Q4aPQf2/Sk2rht7",
      "include_colab_link": true
    },
    "kernelspec": {
      "name": "python3",
      "display_name": "Python 3"
    },
    "accelerator": "GPU"
  },
  "cells": [
    {
      "cell_type": "markdown",
      "metadata": {
        "id": "view-in-github",
        "colab_type": "text"
      },
      "source": [
        "<a href=\"https://colab.research.google.com/github/cristianokunas/Sentiment_Analysis/blob/master/Sentiment_Analysis.ipynb\" target=\"_parent\"><img src=\"https://colab.research.google.com/assets/colab-badge.svg\" alt=\"Open In Colab\"/></a>"
      ]
    },
    {
      "cell_type": "code",
      "metadata": {
        "id": "cfyTexZtcFy8",
        "colab_type": "code",
        "outputId": "4f91e7b2-02a2-406a-b5e3-fc3bd71fd950",
        "colab": {
          "base_uri": "https://localhost:8080/",
          "height": 289
        }
      },
      "source": [
        "!nvidia-smi"
      ],
      "execution_count": 32,
      "outputs": [
        {
          "output_type": "stream",
          "text": [
            "Mon Apr 13 12:39:26 2020       \n",
            "+-----------------------------------------------------------------------------+\n",
            "| NVIDIA-SMI 440.64.00    Driver Version: 418.67       CUDA Version: 10.1     |\n",
            "|-------------------------------+----------------------+----------------------+\n",
            "| GPU  Name        Persistence-M| Bus-Id        Disp.A | Volatile Uncorr. ECC |\n",
            "| Fan  Temp  Perf  Pwr:Usage/Cap|         Memory-Usage | GPU-Util  Compute M. |\n",
            "|===============================+======================+======================|\n",
            "|   0  Tesla P100-PCIE...  Off  | 00000000:00:04.0 Off |                    0 |\n",
            "| N/A   37C    P0    32W / 250W |    653MiB / 16280MiB |      0%      Default |\n",
            "+-------------------------------+----------------------+----------------------+\n",
            "                                                                               \n",
            "+-----------------------------------------------------------------------------+\n",
            "| Processes:                                                       GPU Memory |\n",
            "|  GPU       PID   Type   Process name                             Usage      |\n",
            "|=============================================================================|\n",
            "+-----------------------------------------------------------------------------+\n"
          ],
          "name": "stdout"
        }
      ]
    },
    {
      "cell_type": "markdown",
      "metadata": {
        "id": "iuj8IAK-NMD0",
        "colab_type": "text"
      },
      "source": [
        "# Required Downloads"
      ]
    },
    {
      "cell_type": "code",
      "metadata": {
        "id": "PKPy3eK9dEPU",
        "colab_type": "code",
        "colab": {}
      },
      "source": [
        "!pip install nltk"
      ],
      "execution_count": 0,
      "outputs": []
    },
    {
      "cell_type": "code",
      "metadata": {
        "id": "JuC8wTIHdIPT",
        "colab_type": "code",
        "colab": {}
      },
      "source": [
        "#!pip install tensorflow==1.14.0\n",
        "!pip install tensorflow\n",
        "#!pip install --upgrade tensorflow"
      ],
      "execution_count": 0,
      "outputs": []
    },
    {
      "cell_type": "code",
      "metadata": {
        "id": "mtLeai_edKtr",
        "colab_type": "code",
        "colab": {}
      },
      "source": [
        "#!pip install tensorflow-gpu==1.14.0\n",
        "!pip install --upgrade tensorflow-gpu"
      ],
      "execution_count": 0,
      "outputs": []
    },
    {
      "cell_type": "code",
      "metadata": {
        "id": "NAMuL4aIdOt7",
        "colab_type": "code",
        "colab": {}
      },
      "source": [
        "import nltk\n",
        "nltk.download('stopwords')"
      ],
      "execution_count": 0,
      "outputs": []
    },
    {
      "cell_type": "markdown",
      "metadata": {
        "id": "NmN_QcQz2-9d",
        "colab_type": "text"
      },
      "source": [
        "# Etapa 1 - Importing the libraries"
      ]
    },
    {
      "cell_type": "code",
      "metadata": {
        "id": "DIJ9GMLpdTDc",
        "colab_type": "code",
        "colab": {}
      },
      "source": [
        "import os\n",
        "import re\n",
        "import time\n",
        "import zipfile\n",
        "\n",
        "import numpy as np\n",
        "import pandas as pd\n",
        "from keras.layers import Dense, Input\n",
        "from keras.layers import Embedding\n",
        "from keras.layers import LSTM  # , Bidirectional\n",
        "from keras.models import Sequential, Model\n",
        "from keras.preprocessing.sequence import pad_sequences\n",
        "from keras.preprocessing.text import Tokenizer\n",
        "from keras.preprocessing.text import text_to_word_sequence\n",
        "from sklearn.model_selection import train_test_split\n",
        "from nltk.corpus import stopwords\n",
        "import matplotlib.pyplot as plt"
      ],
      "execution_count": 0,
      "outputs": []
    },
    {
      "cell_type": "markdown",
      "metadata": {
        "id": "sIJGfGzK3lTM",
        "colab_type": "text"
      },
      "source": [
        "# Etapa 2 - Connecting to Drive and accessing files"
      ]
    },
    {
      "cell_type": "code",
      "metadata": {
        "id": "oYAMXqQedXmc",
        "colab_type": "code",
        "colab": {
          "base_uri": "https://localhost:8080/",
          "height": 122
        },
        "outputId": "60816907-99f6-4979-eb93-63686da95432"
      },
      "source": [
        "from google.colab import drive\n",
        "drive.mount('/content/drive')"
      ],
      "execution_count": 7,
      "outputs": [
        {
          "output_type": "stream",
          "text": [
            "Go to this URL in a browser: https://accounts.google.com/o/oauth2/auth?client_id=947318989803-6bn6qk8qdgf4n4g3pfee6491hc0brc4i.apps.googleusercontent.com&redirect_uri=urn%3aietf%3awg%3aoauth%3a2.0%3aoob&response_type=code&scope=email%20https%3a%2f%2fwww.googleapis.com%2fauth%2fdocs.test%20https%3a%2f%2fwww.googleapis.com%2fauth%2fdrive%20https%3a%2f%2fwww.googleapis.com%2fauth%2fdrive.photos.readonly%20https%3a%2f%2fwww.googleapis.com%2fauth%2fpeopleapi.readonly\n",
            "\n",
            "Enter your authorization code:\n",
            "··········\n",
            "Mounted at /content/drive\n"
          ],
          "name": "stdout"
        }
      ]
    },
    {
      "cell_type": "code",
      "metadata": {
        "id": "8oG-TxjMdYk7",
        "colab_type": "code",
        "colab": {
          "base_uri": "https://localhost:8080/",
          "height": 54
        },
        "outputId": "1393c37e-dcb4-432e-b1cf-0a2a6eb7ad50"
      },
      "source": [
        "path = \"/content/drive/My Drive/Lab/Data Science/Sentiment Analysis/IMDB/github/imdb.zip\"\n",
        "zip_object = zipfile.ZipFile(file=path, mode=\"r\")\n",
        "zip_object.extractall(\"/content/drive/My Drive/Lab/Data Science/Sentiment Analysis/IMDB/github\")\n",
        "zip_object.close"
      ],
      "execution_count": 8,
      "outputs": [
        {
          "output_type": "execute_result",
          "data": {
            "text/plain": [
              "<bound method ZipFile.close of <zipfile.ZipFile filename='/content/drive/My Drive/Lab/Data Science/Sentiment Analysis/IMDB/github/imdb.zip' mode='r'>>"
            ]
          },
          "metadata": {
            "tags": []
          },
          "execution_count": 8
        }
      ]
    },
    {
      "cell_type": "markdown",
      "metadata": {
        "id": "Miq-R9lZ5xGU",
        "colab_type": "text"
      },
      "source": [
        "# Etapa 3 - Accessing the review database"
      ]
    },
    {
      "cell_type": "code",
      "metadata": {
        "id": "ckB0VLLpddUU",
        "colab_type": "code",
        "colab": {
          "base_uri": "https://localhost:8080/",
          "height": 204
        },
        "outputId": "55a4a479-2463-48a6-b34b-c8d05df92781"
      },
      "source": [
        "# Carrega o arquivo de dados .csv\n",
        "data = pd.read_csv('/content/drive/My Drive/Lab/Data Science/Sentiment Analysis/IMDB/github/imdb.csv')\n",
        "data.head()"
      ],
      "execution_count": 34,
      "outputs": [
        {
          "output_type": "execute_result",
          "data": {
            "text/html": [
              "<div>\n",
              "<style scoped>\n",
              "    .dataframe tbody tr th:only-of-type {\n",
              "        vertical-align: middle;\n",
              "    }\n",
              "\n",
              "    .dataframe tbody tr th {\n",
              "        vertical-align: top;\n",
              "    }\n",
              "\n",
              "    .dataframe thead th {\n",
              "        text-align: right;\n",
              "    }\n",
              "</style>\n",
              "<table border=\"1\" class=\"dataframe\">\n",
              "  <thead>\n",
              "    <tr style=\"text-align: right;\">\n",
              "      <th></th>\n",
              "      <th>text</th>\n",
              "      <th>sentiment</th>\n",
              "    </tr>\n",
              "  </thead>\n",
              "  <tbody>\n",
              "    <tr>\n",
              "      <th>0</th>\n",
              "      <td>Once again Mr. Costner has dragged out a movie...</td>\n",
              "      <td>neg</td>\n",
              "    </tr>\n",
              "    <tr>\n",
              "      <th>1</th>\n",
              "      <td>This is an example of why the majority of acti...</td>\n",
              "      <td>neg</td>\n",
              "    </tr>\n",
              "    <tr>\n",
              "      <th>2</th>\n",
              "      <td>First of all I hate those moronic rappers, who...</td>\n",
              "      <td>neg</td>\n",
              "    </tr>\n",
              "    <tr>\n",
              "      <th>3</th>\n",
              "      <td>Not even the Beatles could write songs everyon...</td>\n",
              "      <td>neg</td>\n",
              "    </tr>\n",
              "    <tr>\n",
              "      <th>4</th>\n",
              "      <td>Brass pictures (movies is not a fitting word f...</td>\n",
              "      <td>neg</td>\n",
              "    </tr>\n",
              "  </tbody>\n",
              "</table>\n",
              "</div>"
            ],
            "text/plain": [
              "                                                text sentiment\n",
              "0  Once again Mr. Costner has dragged out a movie...       neg\n",
              "1  This is an example of why the majority of acti...       neg\n",
              "2  First of all I hate those moronic rappers, who...       neg\n",
              "3  Not even the Beatles could write songs everyon...       neg\n",
              "4  Brass pictures (movies is not a fitting word f...       neg"
            ]
          },
          "metadata": {
            "tags": []
          },
          "execution_count": 34
        }
      ]
    },
    {
      "cell_type": "code",
      "metadata": {
        "id": "7jfY-ZWCCxc-",
        "colab_type": "code",
        "colab": {
          "base_uri": "https://localhost:8080/",
          "height": 204
        },
        "outputId": "42ab8b1f-04ad-417d-b116-311bfca5a5df"
      },
      "source": [
        "data.tail()"
      ],
      "execution_count": 35,
      "outputs": [
        {
          "output_type": "execute_result",
          "data": {
            "text/html": [
              "<div>\n",
              "<style scoped>\n",
              "    .dataframe tbody tr th:only-of-type {\n",
              "        vertical-align: middle;\n",
              "    }\n",
              "\n",
              "    .dataframe tbody tr th {\n",
              "        vertical-align: top;\n",
              "    }\n",
              "\n",
              "    .dataframe thead th {\n",
              "        text-align: right;\n",
              "    }\n",
              "</style>\n",
              "<table border=\"1\" class=\"dataframe\">\n",
              "  <thead>\n",
              "    <tr style=\"text-align: right;\">\n",
              "      <th></th>\n",
              "      <th>text</th>\n",
              "      <th>sentiment</th>\n",
              "    </tr>\n",
              "  </thead>\n",
              "  <tbody>\n",
              "    <tr>\n",
              "      <th>49995</th>\n",
              "      <td>Seeing as the vote average was pretty low, and...</td>\n",
              "      <td>pos</td>\n",
              "    </tr>\n",
              "    <tr>\n",
              "      <th>49996</th>\n",
              "      <td>The plot had some wretched, unbelievable twist...</td>\n",
              "      <td>pos</td>\n",
              "    </tr>\n",
              "    <tr>\n",
              "      <th>49997</th>\n",
              "      <td>I am amazed at how this movie(and most others ...</td>\n",
              "      <td>pos</td>\n",
              "    </tr>\n",
              "    <tr>\n",
              "      <th>49998</th>\n",
              "      <td>A Christmas Together actually came before my t...</td>\n",
              "      <td>pos</td>\n",
              "    </tr>\n",
              "    <tr>\n",
              "      <th>49999</th>\n",
              "      <td>Working-class romantic drama from director Mar...</td>\n",
              "      <td>pos</td>\n",
              "    </tr>\n",
              "  </tbody>\n",
              "</table>\n",
              "</div>"
            ],
            "text/plain": [
              "                                                    text sentiment\n",
              "49995  Seeing as the vote average was pretty low, and...       pos\n",
              "49996  The plot had some wretched, unbelievable twist...       pos\n",
              "49997  I am amazed at how this movie(and most others ...       pos\n",
              "49998  A Christmas Together actually came before my t...       pos\n",
              "49999  Working-class romantic drama from director Mar...       pos"
            ]
          },
          "metadata": {
            "tags": []
          },
          "execution_count": 35
        }
      ]
    },
    {
      "cell_type": "code",
      "metadata": {
        "id": "MZVNh8-l-y0Z",
        "colab_type": "code",
        "colab": {
          "base_uri": "https://localhost:8080/",
          "height": 214
        },
        "outputId": "3e7dc067-caa5-4544-fc1e-dbd790eab0e6"
      },
      "source": [
        "plt.figure(figsize=(4, 2.5))\n",
        "plt.plot(data['sentiment'], lw=2.0, color='b')\n",
        "plt.title('Divisão das Reviews por Sentimento')\n",
        "plt.xlabel('Número de Reviews')\n",
        "plt.ylabel('Sentimento')\n",
        "plt.show()"
      ],
      "execution_count": 36,
      "outputs": [
        {
          "output_type": "display_data",
          "data": {
            "image/png": "[encoded data removed]",
            "text/plain": [
              "<Figure size 288x180 with 1 Axes>"
            ]
          },
          "metadata": {
            "tags": [],
            "needs_background": "light"
          }
        }
      ]
    },
    {
      "cell_type": "markdown",
      "metadata": {
        "id": "lEhzCSv5Eb-u",
        "colab_type": "text"
      },
      "source": [
        "# Etapa 4 - Initializes variables"
      ]
    },
    {
      "cell_type": "code",
      "metadata": {
        "id": "_eUlMAiadh3U",
        "colab_type": "code",
        "colab": {}
      },
      "source": [
        "seed = 7\n",
        "np.random.seed(seed)\n",
        "# O model sera exportado para este arquivo\n",
        "filename = '/content/drive/My Drive/Lab/Data Science/Sentiment Analysis/model_saved.h5'\n",
        "# numero de iteracoes\n",
        "epochs = 5  # email - 150\n",
        "# numero de amostras a serem utilizadas em cada atualizacao do gradiente - numero de instancias\n",
        "batch_size = 32  # email - 10\n",
        "# separa % para teste do modelo\n",
        "test_dim = 0.20\n",
        "# Quantidade maxima de palavras para manter no vocabulario\n",
        "max_features = 20000\n",
        "# dimensao de saida da camada Embedding\n",
        "embed_dim = 128\n",
        "# Tamanho maximo das sentencas\n",
        "max_sequence_length = 300"
      ],
      "execution_count": 0,
      "outputs": []
    },
    {
      "cell_type": "markdown",
      "metadata": {
        "id": "fMbLBf06jrcO",
        "colab_type": "text"
      },
      "source": [
        "# Calculating Runtime"
      ]
    },
    {
      "cell_type": "code",
      "metadata": {
        "id": "BVnt7ASnqQ2V",
        "colab_type": "code",
        "colab": {}
      },
      "source": [
        "def calcRuntime(totalTime):\n",
        "  hours, rem = divmod(totalTime, 3600)\n",
        "  minutes, seconds = divmod(rem, 60)\n",
        "  formatTime = \"{:0>2}:{:0>2}:{:05.2f}\".format(int(hours),int(minutes),seconds)\n",
        "  return formatTime"
      ],
      "execution_count": 0,
      "outputs": []
    },
    {
      "cell_type": "markdown",
      "metadata": {
        "id": "81tYf1TI3ze0",
        "colab_type": "text"
      },
      "source": [
        "# Etapa 5 - Data pre-processing"
      ]
    },
    {
      "cell_type": "code",
      "metadata": {
        "id": "bgAPa9px33R0",
        "colab_type": "code",
        "colab": {}
      },
      "source": [
        "# metodo para limpar as strings - tirar conteudo que nao agrega\n",
        "def clean_str(string):\n",
        "    string = re.sub(r\"[^A-Za-z0-9(),!?\\'\\`]\", \" \", string)\n",
        "    string = re.sub(r\"\\'s\", \" \\'s\", string)\n",
        "    string = re.sub(r\"\\'ve\", \" \\'ve\", string)\n",
        "    string = re.sub(r\"n\\'t\", \" n\\'t\", string)\n",
        "    string = re.sub(r\"\\'re\", \" \\'re\", string)\n",
        "    string = re.sub(r\"\\'d\", \" \\'d\", string)\n",
        "    string = re.sub(r\"\\'ll\", \" \\'ll\", string)\n",
        "    string = re.sub(r\",\", \" , \", string)\n",
        "    string = re.sub(r\"!\", \" ! \", string)\n",
        "    string = re.sub(r\"\\(\", \" \\( \", string)\n",
        "    string = re.sub(r\"\\)\", \" \\) \", string)\n",
        "    string = re.sub(r\"\\?\", \" \\? \", string)\n",
        "    string = re.sub(r\"\\s{2,}\", \" \", string)\n",
        "\n",
        "    cleanr = re.compile('<.*?>')\n",
        "\n",
        "    string = re.sub(r'\\d+', '', string)\n",
        "    string = re.sub(cleanr, '', string)\n",
        "    string = re.sub(\"'\", '', string)\n",
        "    string = re.sub(r'\\W+', ' ', string)\n",
        "    string = string.replace('_', '')\n",
        "\n",
        "    return string.strip().lower()"
      ],
      "execution_count": 0,
      "outputs": []
    },
    {
      "cell_type": "code",
      "metadata": {
        "id": "GFavveMX33cL",
        "colab_type": "code",
        "colab": {}
      },
      "source": [
        "# Metodo para preparar os dados de treino e teste\n",
        "# carrega csv, limpa as strings e remove as stop_wors\n",
        "# Realiza a tokenizacao\n",
        "def prepare_data(data):\n",
        "    data = data[['text', 'sentiment']]\n",
        "    data['text'] = data['text'].apply(lambda x: x.lower())\n",
        "    data['text'] = data['text'].apply(lambda x: clean_str(x))\n",
        "    data['text'] = data['text'].apply((lambda x: re.sub('[^a-zA-z0-9\\s]', '', x)))\n",
        "\n",
        "    stop_words = set(stopwords.words('english'))\n",
        "    text = []\n",
        "    for row in data['text'].values:\n",
        "        word_list = text_to_word_sequence(row)\n",
        "        no_stop_words = [w for w in word_list if not w in stop_words]\n",
        "        no_stop_words = \" \".join(no_stop_words)\n",
        "        text.append(no_stop_words)\n",
        "\n",
        "    tokenizer = Tokenizer(num_words=max_features, split=' ')\n",
        "\n",
        "    tokenizer.fit_on_texts(text)\n",
        "    X = tokenizer.texts_to_sequences(text)\n",
        "\n",
        "    X = pad_sequences(X, maxlen=max_sequence_length)\n",
        "\n",
        "    word_index = tokenizer.word_index\n",
        "    Y = pd.get_dummies(data['sentiment']).values\n",
        "    X_train, X_test, Y_train, Y_test = train_test_split(X, Y, test_size=test_dim, random_state=42)\n",
        "\n",
        "    return X_train, X_test, Y_train, Y_test, word_index, tokenizer"
      ],
      "execution_count": 0,
      "outputs": []
    },
    {
      "cell_type": "markdown",
      "metadata": {
        "id": "4wToWjHj31Is",
        "colab_type": "text"
      },
      "source": [
        "# Etapa 6a - Create model - Sequential"
      ]
    },
    {
      "cell_type": "code",
      "metadata": {
        "id": "V4c5DviTcyYI",
        "colab_type": "code",
        "colab": {
          "base_uri": "https://localhost:8080/",
          "height": 0
        },
        "outputId": "70f29370-6f4e-471b-e468-9f59f2a2829d"
      },
      "source": [
        "# chama metodo para preparar dados\n",
        "X_train, X_test, Y_train, Y_test, word_index, tokenizer = prepare_data(data)\n",
        "print(X_train.shape, Y_train.shape)\n",
        "print(X_test.shape, Y_test.shape)\n",
        "\n",
        "# Cria o modelo\n",
        "model = Sequential()\n",
        "model.add(Embedding(max_features, embed_dim, input_length=max_sequence_length))\n",
        "model.add(LSTM(embed_dim, dropout=0.2, recurrent_dropout=0.2, name=\"lstm\"))\n",
        "#model.add(Dense(12, input_dim=8, init='uniform', activation='relu'))\n",
        "#model.add(Dense(8, init='uniform', activation='relu'))\n",
        "model.add(Dense(2, kernel_initializer='uniform', activation='sigmoid'))\n",
        "\n",
        "# compila o modelo\n",
        "model.compile(loss='binary_crossentropy', optimizer='adam', metrics=['accuracy'])\n",
        "print(model.summary())"
      ],
      "execution_count": 42,
      "outputs": [
        {
          "output_type": "stream",
          "text": [
            "(40000, 500) (40000, 2)\n",
            "(10000, 500) (10000, 2)\n",
            "Model: \"sequential_2\"\n",
            "_________________________________________________________________\n",
            "Layer (type)                 Output Shape              Param #   \n",
            "=================================================================\n",
            "embedding_2 (Embedding)      (None, 500, 128)          640000    \n",
            "_________________________________________________________________\n",
            "lstm (LSTM)                  (None, 128)               131584    \n",
            "_________________________________________________________________\n",
            "dense_2 (Dense)              (None, 2)                 258       \n",
            "=================================================================\n",
            "Total params: 771,842\n",
            "Trainable params: 771,842\n",
            "Non-trainable params: 0\n",
            "_________________________________________________________________\n",
            "None\n"
          ],
          "name": "stdout"
        }
      ]
    },
    {
      "cell_type": "markdown",
      "metadata": {
        "colab_type": "text",
        "id": "BgVZqVV3O_gK"
      },
      "source": [
        "# Etapa 6b - Create model - functional API"
      ]
    },
    {
      "cell_type": "code",
      "metadata": {
        "id": "SZ6-xebOxkDM",
        "colab_type": "code",
        "outputId": "8e9bb3d7-2c38-42d6-b852-e247a8eb2028",
        "colab": {
          "base_uri": "https://localhost:8080/",
          "height": 340
        }
      },
      "source": [
        "# chama metodo para preparar dados\n",
        "X_train, X_test, Y_train, Y_test, word_index, tokenizer = prepare_data(data)\n",
        "print(X_train.shape, Y_train.shape)\n",
        "print(X_test.shape, Y_test.shape)\n",
        "\n",
        "# Cria o modelo\n",
        "input_shape = (max_sequence_length,)\n",
        "model_input = Input(shape=input_shape, name=\"input\", dtype='int32')\n",
        "embedding = Embedding(max_features, embed_dim, input_length=max_sequence_length, name=\"embedding\")(model_input)\n",
        "lstm = LSTM(embed_dim, dropout=0.2, recurrent_dropout=0.2, name=\"lstm\")(embedding)\n",
        "model_output = Dense(2, activation='softmax', name=\"softmax\")(lstm)\n",
        "model = Model(inputs=model_input, outputs=model_output)\n",
        "\n",
        "# compila o modelo\n",
        "model.compile(loss='binary_crossentropy', optimizer='adam', metrics=['accuracy'])\n",
        "print(model.summary())"
      ],
      "execution_count": 47,
      "outputs": [
        {
          "output_type": "stream",
          "text": [
            "(40000, 300) (40000, 2)\n",
            "(10000, 300) (10000, 2)\n",
            "Model: \"model_7\"\n",
            "_________________________________________________________________\n",
            "Layer (type)                 Output Shape              Param #   \n",
            "=================================================================\n",
            "input (InputLayer)           (None, 300)               0         \n",
            "_________________________________________________________________\n",
            "embedding (Embedding)        (None, 300, 128)          2560000   \n",
            "_________________________________________________________________\n",
            "lstm (LSTM)                  (None, 128)               131584    \n",
            "_________________________________________________________________\n",
            "softmax (Dense)              (None, 2)                 258       \n",
            "=================================================================\n",
            "Total params: 2,691,842\n",
            "Trainable params: 2,691,842\n",
            "Non-trainable params: 0\n",
            "_________________________________________________________________\n",
            "None\n"
          ],
          "name": "stdout"
        }
      ]
    },
    {
      "cell_type": "markdown",
      "metadata": {
        "colab_type": "text",
        "id": "DfLDcdi2Pb9r"
      },
      "source": [
        "# Etapa 7 - Training the network"
      ]
    },
    {
      "cell_type": "code",
      "metadata": {
        "id": "G5bb9PDI4x4f",
        "colab_type": "code",
        "colab": {
          "base_uri": "https://localhost:8080/",
          "height": 275
        },
        "outputId": "b6ae38bf-825a-4a22-d317-770654a3599a"
      },
      "source": [
        "# Treinamento da rede neural\n",
        "# Verifica se existe um modelo treinado\n",
        "# True = carrega o modelo ja treinado\n",
        "# False = treina a rede e salva o modelo\n",
        "inicio = time.time()\n",
        "\n",
        "if os.path.exists('{}'.format(filename)):\n",
        "  try:\n",
        "    model.load_weights('{}'.format(filename))\n",
        "    print('Successful model loading!')\n",
        "  except:\n",
        "    print('No such file or directory!')\n",
        "else:\n",
        "  hist = model.fit(\n",
        "      X_train,\n",
        "      Y_train,\n",
        "      validation_data=(X_test, Y_test),\n",
        "      epochs=epochs,\n",
        "      batch_size=batch_size, \n",
        "      shuffle=True,\n",
        "      verbose=1)\n",
        "  \n",
        "  model.save_weights(filename)\n",
        "\n",
        "fim = time.time()\n",
        "print(calcRuntime(fim - inicio))"
      ],
      "execution_count": 48,
      "outputs": [
        {
          "output_type": "stream",
          "text": [
            "/usr/local/lib/python3.6/dist-packages/tensorflow_core/python/framework/indexed_slices.py:433: UserWarning: Converting sparse IndexedSlices to a dense Tensor of unknown shape. This may consume a large amount of memory.\n",
            "  \"Converting sparse IndexedSlices to a dense Tensor of unknown shape. \"\n"
          ],
          "name": "stderr"
        },
        {
          "output_type": "stream",
          "text": [
            "Train on 40000 samples, validate on 10000 samples\n",
            "Epoch 1/5\n",
            "40000/40000 [==============================] - 301s 8ms/step - loss: 0.3867 - accuracy: 0.8344 - val_loss: 0.3759 - val_accuracy: 0.8607\n",
            "Epoch 2/5\n",
            "40000/40000 [==============================] - 297s 7ms/step - loss: 0.2458 - accuracy: 0.9048 - val_loss: 0.2815 - val_accuracy: 0.8885\n",
            "Epoch 3/5\n",
            "40000/40000 [==============================] - 297s 7ms/step - loss: 0.1759 - accuracy: 0.9338 - val_loss: 0.3541 - val_accuracy: 0.8790\n",
            "Epoch 4/5\n",
            "40000/40000 [==============================] - 295s 7ms/step - loss: 0.1318 - accuracy: 0.9518 - val_loss: 0.3564 - val_accuracy: 0.8805\n",
            "Epoch 5/5\n",
            "40000/40000 [==============================] - 294s 7ms/step - loss: 0.0967 - accuracy: 0.9658 - val_loss: 0.4256 - val_accuracy: 0.8782\n",
            "00:24:44.05\n"
          ],
          "name": "stdout"
        }
      ]
    },
    {
      "cell_type": "markdown",
      "metadata": {
        "id": "VAoHkwn132L8",
        "colab_type": "text"
      },
      "source": [
        "# Etapa 8 - Evaluate model / Validate model with new entries"
      ]
    },
    {
      "cell_type": "code",
      "metadata": {
        "id": "ELAiM4jwD_oE",
        "colab_type": "code",
        "colab": {
          "base_uri": "https://localhost:8080/",
          "height": 51
        },
        "outputId": "8152fcb9-cf3e-4f8f-e36e-9524ed22095b"
      },
      "source": [
        "# Avaliando o modelo\n",
        "scores = model.evaluate(X_test, Y_test, verbose=0, batch_size=batch_size)\n",
        "print(\"Accuracy: %.2f%%\" % (scores[1] * 100))\n",
        "print(\"Erro: %.2f%%\" % (scores[0] * 100))"
      ],
      "execution_count": 49,
      "outputs": [
        {
          "output_type": "stream",
          "text": [
            "Accuracy: 87.82%\n",
            "Erro: 42.56%\n"
          ],
          "name": "stdout"
        }
      ]
    },
    {
      "cell_type": "code",
      "metadata": {
        "id": "jriyr0eAXFZ7",
        "colab_type": "code",
        "outputId": "00863a68-7f8f-4875-ca4b-06e7df06165e",
        "colab": {
          "base_uri": "https://localhost:8080/",
          "height": 295
        }
      },
      "source": [
        "plt.figure()\n",
        "#plt.axis([0, 4, 0, 1])\n",
        "plt.plot(hist.history['accuracy'], lw=2.0, color='b', label='Acc Train')\n",
        "plt.plot(hist.history['val_accuracy'], lw=2.0, color='r', label='Acc Val')\n",
        "#plt.plot(hist.history['loss'], lw=2.0, color='darkviolet', label='Loss Train')\n",
        "#plt.plot(hist.history['val_loss'], lw=2.0, color='lime', label='Loss Val')\n",
        "plt.title('Classificador de sentimentos')\n",
        "plt.xlabel('Epochs')\n",
        "plt.ylabel('Acurácia')\n",
        "plt.legend(bbox_to_anchor=(1, 1), loc='upper left', borderaxespad=0.)\n",
        "plt.show()"
      ],
      "execution_count": 50,
      "outputs": [
        {
          "output_type": "display_data",
          "data": {
            "image/png": "[encoded data removed]",
            "text/plain": [
              "<Figure size 432x288 with 1 Axes>"
            ]
          },
          "metadata": {
            "tags": [],
            "needs_background": "light"
          }
        }
      ]
    },
    {
      "cell_type": "code",
      "metadata": {
        "id": "FNcqSq3vXCmW",
        "colab_type": "code",
        "outputId": "cd86954b-1f0e-4423-b965-e2f0b4f29da9",
        "colab": {
          "base_uri": "https://localhost:8080/",
          "height": 295
        }
      },
      "source": [
        "# Plot\n",
        "plt.figure()\n",
        "plt.plot(hist.history['loss'], lw=2.0, color='b', label='Loss Train')\n",
        "plt.plot(hist.history['val_loss'], lw=2.0, color='r', label='Loss Val')\n",
        "plt.title('Classificador de sentimentos')\n",
        "plt.xlabel('Epochs')\n",
        "plt.ylabel('Cross-Entropy')\n",
        "plt.legend(loc='upper right')\n",
        "plt.show()"
      ],
      "execution_count": 51,
      "outputs": [
        {
          "output_type": "display_data",
          "data": {
            "image/png": "[encoded data removed]",
            "text/plain": [
              "<Figure size 432x288 with 1 Axes>"
            ]
          },
          "metadata": {
            "tags": [],
            "needs_background": "light"
          }
        }
      ]
    },
    {
      "cell_type": "code",
      "metadata": {
        "id": "VgMajaLc44As",
        "colab_type": "code",
        "colab": {
          "base_uri": "https://localhost:8080/",
          "height": 224
        },
        "outputId": "93df7e06-60e1-4e8f-a649-8ee26838e0f8"
      },
      "source": [
        "while True:\n",
        "    print(\"\\nType 0 to quit\")\n",
        "    sentence = input(\"input> \")\n",
        "\n",
        "    if sentence == \"0\":\n",
        "        break\n",
        "\n",
        "    new_text = [sentence]\n",
        "    new_text = tokenizer.texts_to_sequences(new_text)\n",
        "\n",
        "    new_text = pad_sequences(new_text, maxlen=max_sequence_length, dtype='int32', value=0)\n",
        "\n",
        "    sentiment = model.predict(new_text, batch_size=1, verbose=2)[0]\n",
        "\n",
        "    if (np.argmax(sentiment) == 0):\n",
        "        pred_proba = \"%.2f%%\" % (sentiment[0] * 100)\n",
        "        print(\"negativo => \", pred_proba)\n",
        "    elif (np.argmax(sentiment) == 1):\n",
        "        pred_proba = \"%.2f%%\" % (sentiment[1] * 100)\n",
        "        print(\"positivo => \", pred_proba)\n"
      ],
      "execution_count": 52,
      "outputs": [
        {
          "output_type": "stream",
          "text": [
            "\n",
            "Type 0 to quit\n",
            "input> There isn't too much in the way of suspense or surprises when it comes to the story, but there are some shocking moments and funny lines in this epic finale. Again, like many of the best Marvel films, the holes and flaws are covered up with humor and fan service, making everything okay. That being said, I did prefer Infinity War to this film, which really misses the leads of the other Marvel franchises that were \"snapped\" out. Overall, however, there are only a few ways you can wrap up the main story of the MCU, and this was a solid direction.\n",
            "positivo =>  99.70%\n",
            "\n",
            "Type 0 to quit\n",
            "input> I had no choice but to watch it to finish the sequence. The worst of all the Avengers movies. Apart from some action scenes all the rest it is pure lame dialogues and poor performances. Purely made to make money out of a \"trendy\" public that are rating this movie high because I've never met one single person who has read the comics and like this garbage. At least, there will be no more of this, I hope.\n",
            "negativo =>  99.94%\n",
            "\n",
            "Type 0 to quit\n",
            "input> 0\n"
          ],
          "name": "stdout"
        }
      ]
    },
    {
      "cell_type": "markdown",
      "metadata": {
        "id": "UTtTmsr8h6Hs",
        "colab_type": "text"
      },
      "source": [
        "Review Original:\n",
        "There isn't too much in the way of suspense or surprises when it comes to the story, but there are some shocking moments and funny lines in this epic finale. Again, like many of the best Marvel films, the holes and flaws are covered up with humor and fan service, making everything okay. That being said, I did prefer Infinity War to this film, which really misses the leads of the other Marvel franchises that were \"snapped\" out. Overall, however, there are only a few ways you can wrap up the main story of the MCU, and this was a solid direction.\n",
        "\n",
        "Google Translate:\n",
        "Não há muito suspense ou surpresas quando se trata da história, mas há alguns momentos chocantes e frases engraçadas neste final épico. Novamente, como muitos dos melhores filmes da Marvel, os buracos e as falhas são cobertos com humor e serviço de fãs, deixando tudo bem. Dito isto, eu preferi a Guerra do Infinito a este filme, que realmente sente falta das pistas de outras franquias da Marvel que foram \"quebradas\". No geral, no entanto, existem apenas algumas maneiras de resumir a história principal do MCU, e essa foi uma direção sólida.\n",
        "\n",
        "Opinião: 8/10 estrelas\n",
        "\n",
        "Review Original:\n",
        "I had no choice but to watch it to finish the sequence. The worst of all the Avengers movies. Apart from some action scenes all the rest it is pure lame dialogues and poor performances. Purely made to make money out of a \"trendy\" public that are rating this movie high because I've never met one single person who has read the comics and like this garbage. At least, there will be no more of this, I hope.\n",
        "\n",
        "Google Translate:\n",
        "Eu não tive escolha, mas assisti-lo para terminar a sequência. O pior de todos os filmes dos Vingadores. Além de algumas cenas de ação, o resto são diálogos coxos e performances ruins. Puramente feito para ganhar dinheiro com um público \"na moda\" que está avaliando este filme como alto porque nunca conheci uma única pessoa que leu os quadrinhos e gostou desse lixo. Pelo menos, não haverá mais isso, espero.\n",
        "\n",
        "Opinião: 1/10 estrelas"
      ]
    },
    {
      "cell_type": "markdown",
      "metadata": {
        "id": "SmXwA5ooEAqu",
        "colab_type": "text"
      },
      "source": [
        "# Final - Unmount Drive"
      ]
    },
    {
      "cell_type": "code",
      "metadata": {
        "id": "sqsyKrc6dlYc",
        "colab_type": "code",
        "colab": {}
      },
      "source": [
        "drive.flush_and_unmount()\n",
        "print('All changes made in this colab session should now be visible in Drive.')"
      ],
      "execution_count": 0,
      "outputs": []
    }
  ]
}