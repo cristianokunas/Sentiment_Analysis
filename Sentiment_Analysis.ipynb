{
  "nbformat": 4,
  "nbformat_minor": 0,
  "metadata": {
    "colab": {
      "name": "Sentiment_Analysis.ipynb",
      "provenance": [],
      "collapsed_sections": [],
      "machine_shape": "hm",
      "authorship_tag": "ABX9TyNfDBo73gQIt7jh9LfKUTgu",
      "include_colab_link": true
    },
    "kernelspec": {
      "name": "python3",
      "display_name": "Python 3"
    },
    "accelerator": "GPU"
  },
  "cells": [
    {
      "cell_type": "markdown",
      "metadata": {
        "id": "view-in-github",
        "colab_type": "text"
      },
      "source": [
        "<a href=\"https://colab.research.google.com/github/cristianokunas/Sentiment_Analysis/blob/master/Sentiment_Analysis.ipynb\" target=\"_parent\"><img src=\"https://colab.research.google.com/assets/colab-badge.svg\" alt=\"Open In Colab\"/></a>"
      ]
    },
    {
      "cell_type": "code",
      "metadata": {
        "id": "cfyTexZtcFy8",
        "colab_type": "code",
        "colab": {
          "base_uri": "https://localhost:8080/",
          "height": 289
        },
        "outputId": "ebfa677c-1e97-401b-9115-9c40a9f20e6d"
      },
      "source": [
        "!nvidia-smi"
      ],
      "execution_count": 126,
      "outputs": [
        {
          "output_type": "stream",
          "text": [
            "Mon Apr 13 02:58:25 2020       \n",
            "+-----------------------------------------------------------------------------+\n",
            "| NVIDIA-SMI 440.64.00    Driver Version: 418.67       CUDA Version: 10.1     |\n",
            "|-------------------------------+----------------------+----------------------+\n",
            "| GPU  Name        Persistence-M| Bus-Id        Disp.A | Volatile Uncorr. ECC |\n",
            "| Fan  Temp  Perf  Pwr:Usage/Cap|         Memory-Usage | GPU-Util  Compute M. |\n",
            "|===============================+======================+======================|\n",
            "|   0  Tesla P100-PCIE...  Off  | 00000000:00:04.0 Off |                    0 |\n",
            "| N/A   32C    P0    31W / 250W |   1421MiB / 16280MiB |      0%      Default |\n",
            "+-------------------------------+----------------------+----------------------+\n",
            "                                                                               \n",
            "+-----------------------------------------------------------------------------+\n",
            "| Processes:                                                       GPU Memory |\n",
            "|  GPU       PID   Type   Process name                             Usage      |\n",
            "|=============================================================================|\n",
            "+-----------------------------------------------------------------------------+\n"
          ],
          "name": "stdout"
        }
      ]
    },
    {
      "cell_type": "markdown",
      "metadata": {
        "id": "iuj8IAK-NMD0",
        "colab_type": "text"
      },
      "source": [
        "# Required Downloads"
      ]
    },
    {
      "cell_type": "code",
      "metadata": {
        "id": "PKPy3eK9dEPU",
        "colab_type": "code",
        "colab": {}
      },
      "source": [
        "!pip install nltk"
      ],
      "execution_count": 0,
      "outputs": []
    },
    {
      "cell_type": "code",
      "metadata": {
        "id": "JuC8wTIHdIPT",
        "colab_type": "code",
        "colab": {}
      },
      "source": [
        "#!pip install tensorflow==1.14.0\n",
        "!pip install tensorflow\n",
        "#!pip install --upgrade tensorflow"
      ],
      "execution_count": 0,
      "outputs": []
    },
    {
      "cell_type": "code",
      "metadata": {
        "id": "mtLeai_edKtr",
        "colab_type": "code",
        "colab": {}
      },
      "source": [
        "#!pip install tensorflow-gpu==1.14.0\n",
        "!pip install --upgrade tensorflow-gpu"
      ],
      "execution_count": 0,
      "outputs": []
    },
    {
      "cell_type": "code",
      "metadata": {
        "id": "NAMuL4aIdOt7",
        "colab_type": "code",
        "colab": {}
      },
      "source": [
        "import nltk\n",
        "nltk.download('stopwords')"
      ],
      "execution_count": 0,
      "outputs": []
    },
    {
      "cell_type": "markdown",
      "metadata": {
        "id": "NmN_QcQz2-9d",
        "colab_type": "text"
      },
      "source": [
        "# Etapa 1 - Importing the libraries"
      ]
    },
    {
      "cell_type": "code",
      "metadata": {
        "id": "DIJ9GMLpdTDc",
        "colab_type": "code",
        "colab": {}
      },
      "source": [
        "import os\n",
        "import re\n",
        "import time\n",
        "import zipfile\n",
        "\n",
        "import numpy as np\n",
        "import pandas as pd\n",
        "from keras.layers import Dense, Input\n",
        "from keras.layers import Embedding\n",
        "from keras.layers import LSTM  # , Bidirectional\n",
        "from keras.models import Sequential, Model\n",
        "from keras.preprocessing.sequence import pad_sequences\n",
        "from keras.preprocessing.text import Tokenizer\n",
        "from keras.preprocessing.text import text_to_word_sequence\n",
        "from sklearn.model_selection import train_test_split\n",
        "from nltk.corpus import stopwords\n",
        "import matplotlib.pyplot as plt"
      ],
      "execution_count": 0,
      "outputs": []
    },
    {
      "cell_type": "markdown",
      "metadata": {
        "id": "sIJGfGzK3lTM",
        "colab_type": "text"
      },
      "source": [
        "# Etapa 2 - Connecting to Drive and accessing files"
      ]
    },
    {
      "cell_type": "code",
      "metadata": {
        "id": "oYAMXqQedXmc",
        "colab_type": "code",
        "colab": {}
      },
      "source": [
        "from google.colab import drive\n",
        "drive.mount('/content/drive')"
      ],
      "execution_count": 0,
      "outputs": []
    },
    {
      "cell_type": "code",
      "metadata": {
        "id": "8oG-TxjMdYk7",
        "colab_type": "code",
        "colab": {}
      },
      "source": [
        "path = \"/content/drive/My Drive/Lab/Data Science/Sentiment Analysis/IMDB/github/imdb.zip\"\n",
        "zip_object = zipfile.ZipFile(file=path, mode=\"r\")\n",
        "zip_object.extractall(\"/content/drive/My Drive/Lab/Data Science/Sentiment Analysis/IMDB/github\")\n",
        "zip_object.close"
      ],
      "execution_count": 0,
      "outputs": []
    },
    {
      "cell_type": "markdown",
      "metadata": {
        "id": "Miq-R9lZ5xGU",
        "colab_type": "text"
      },
      "source": [
        "# Etapa 3 - Accessing the review database"
      ]
    },
    {
      "cell_type": "code",
      "metadata": {
        "id": "ckB0VLLpddUU",
        "colab_type": "code",
        "colab": {}
      },
      "source": [
        "# Carrega o arquivo de dados .csv\n",
        "data = pd.read_csv('/content/drive/My Drive/Lab/Data Science/Sentiment Analysis/IMDB/github/imdb.csv')\n",
        "data.head()"
      ],
      "execution_count": 0,
      "outputs": []
    },
    {
      "cell_type": "code",
      "metadata": {
        "id": "7jfY-ZWCCxc-",
        "colab_type": "code",
        "colab": {}
      },
      "source": [
        "data.tail()"
      ],
      "execution_count": 0,
      "outputs": []
    },
    {
      "cell_type": "code",
      "metadata": {
        "id": "MZVNh8-l-y0Z",
        "colab_type": "code",
        "colab": {}
      },
      "source": [
        "plt.figure(figsize=(4, 2.5))\n",
        "plt.plot(data['sentiment'], lw=2.0, color='b')\n",
        "plt.title('Divisão das Reviews por Sentimento')\n",
        "plt.xlabel('Número de Reviews')\n",
        "plt.ylabel('Sentimento')\n",
        "plt.show()"
      ],
      "execution_count": 0,
      "outputs": []
    },
    {
      "cell_type": "markdown",
      "metadata": {
        "id": "lEhzCSv5Eb-u",
        "colab_type": "text"
      },
      "source": [
        "# Etapa 4 - Initializes variables"
      ]
    },
    {
      "cell_type": "code",
      "metadata": {
        "id": "_eUlMAiadh3U",
        "colab_type": "code",
        "colab": {}
      },
      "source": [
        "seed = 7\n",
        "np.random.seed(seed)\n",
        "# O model sera exportado para este arquivo\n",
        "filename = '/content/drive/My Drive/Lab/Data Science/Sentiment Analysis/model_saved.h5'\n",
        "# numero de iteracoes\n",
        "epochs = 5  # email - 150\n",
        "# numero de amostras a serem utilizadas em cada atualizacao do gradiente - numero de instancias\n",
        "batch_size = 32  # email - 10\n",
        "# separa % para teste do modelo\n",
        "test_dim = 0.20\n",
        "# Quantidade maxima de palavras para manter no vocabulario\n",
        "max_features = 5000\n",
        "# dimensao de saida da camada Embedding\n",
        "embed_dim = 128\n",
        "# Tamanho maximo das sentencas\n",
        "max_sequence_length = 300"
      ],
      "execution_count": 0,
      "outputs": []
    },
    {
      "cell_type": "markdown",
      "metadata": {
        "id": "fMbLBf06jrcO",
        "colab_type": "text"
      },
      "source": [
        "# Calculating Runtime"
      ]
    },
    {
      "cell_type": "code",
      "metadata": {
        "id": "BVnt7ASnqQ2V",
        "colab_type": "code",
        "colab": {}
      },
      "source": [
        "def calcRuntime(totalTime):\n",
        "  hours, rem = divmod(totalTime, 3600)\n",
        "  minutes, seconds = divmod(rem, 60)\n",
        "  formatTime = \"{:0>2}:{:0>2}:{:05.2f}\".format(int(hours),int(minutes),seconds)\n",
        "  return formatTime"
      ],
      "execution_count": 0,
      "outputs": []
    },
    {
      "cell_type": "markdown",
      "metadata": {
        "id": "81tYf1TI3ze0",
        "colab_type": "text"
      },
      "source": [
        "# Etapa 5 - Data pre-processing"
      ]
    },
    {
      "cell_type": "code",
      "metadata": {
        "id": "bgAPa9px33R0",
        "colab_type": "code",
        "colab": {}
      },
      "source": [
        "# metodo para limpar as strings - tirar conteudo que nao agrega\n",
        "def clean_str(string):\n",
        "    string = re.sub(r\"[^A-Za-z0-9(),!?\\'\\`]\", \" \", string)\n",
        "    string = re.sub(r\"\\'s\", \" \\'s\", string)\n",
        "    string = re.sub(r\"\\'ve\", \" \\'ve\", string)\n",
        "    string = re.sub(r\"n\\'t\", \" n\\'t\", string)\n",
        "    string = re.sub(r\"\\'re\", \" \\'re\", string)\n",
        "    string = re.sub(r\"\\'d\", \" \\'d\", string)\n",
        "    string = re.sub(r\"\\'ll\", \" \\'ll\", string)\n",
        "    string = re.sub(r\",\", \" , \", string)\n",
        "    string = re.sub(r\"!\", \" ! \", string)\n",
        "    string = re.sub(r\"\\(\", \" \\( \", string)\n",
        "    string = re.sub(r\"\\)\", \" \\) \", string)\n",
        "    string = re.sub(r\"\\?\", \" \\? \", string)\n",
        "    string = re.sub(r\"\\s{2,}\", \" \", string)\n",
        "\n",
        "    cleanr = re.compile('<.*?>')\n",
        "\n",
        "    string = re.sub(r'\\d+', '', string)\n",
        "    string = re.sub(cleanr, '', string)\n",
        "    string = re.sub(\"'\", '', string)\n",
        "    string = re.sub(r'\\W+', ' ', string)\n",
        "    string = string.replace('_', '')\n",
        "\n",
        "    return string.strip().lower()"
      ],
      "execution_count": 0,
      "outputs": []
    },
    {
      "cell_type": "code",
      "metadata": {
        "id": "GFavveMX33cL",
        "colab_type": "code",
        "colab": {}
      },
      "source": [
        "# Metodo para preparar os dados de treino e teste\n",
        "# carrega csv, limpa as strings e remove as stop_wors\n",
        "# Realiza a tokenizacao\n",
        "def prepare_data(data):\n",
        "    data = data[['text', 'sentiment']]\n",
        "    data['text'] = data['text'].apply(lambda x: x.lower())\n",
        "    data['text'] = data['text'].apply(lambda x: clean_str(x))\n",
        "    data['text'] = data['text'].apply((lambda x: re.sub('[^a-zA-z0-9\\s]', '', x)))\n",
        "\n",
        "    stop_words = set(stopwords.words('english'))\n",
        "    text = []\n",
        "    for row in data['text'].values:\n",
        "        word_list = text_to_word_sequence(row)\n",
        "        no_stop_words = [w for w in word_list if not w in stop_words]\n",
        "        no_stop_words = \" \".join(no_stop_words)\n",
        "        text.append(no_stop_words)\n",
        "\n",
        "    tokenizer = Tokenizer(num_words=max_features, split=' ')\n",
        "\n",
        "    tokenizer.fit_on_texts(text)\n",
        "    X = tokenizer.texts_to_sequences(text)\n",
        "\n",
        "    X = pad_sequences(X, maxlen=max_sequence_length)\n",
        "\n",
        "    word_index = tokenizer.word_index\n",
        "    Y = pd.get_dummies(data['sentiment']).values\n",
        "    X_train, X_test, Y_train, Y_test = train_test_split(X, Y, test_size=test_dim, random_state=42)\n",
        "\n",
        "    return X_train, X_test, Y_train, Y_test, word_index, tokenizer"
      ],
      "execution_count": 0,
      "outputs": []
    },
    {
      "cell_type": "markdown",
      "metadata": {
        "id": "4wToWjHj31Is",
        "colab_type": "text"
      },
      "source": [
        "# Etapa 6 - Create model and training the network"
      ]
    },
    {
      "cell_type": "code",
      "metadata": {
        "id": "V4c5DviTcyYI",
        "colab_type": "code",
        "colab": {}
      },
      "source": [
        "# chama metodo para preparar dados\n",
        "X_train, X_test, Y_train, Y_test, word_index, tokenizer = prepare_data(data)\n",
        "print(X_train.shape, Y_train.shape)\n",
        "print(X_test.shape, Y_test.shape)\n",
        "\n",
        "# Cria o modelo\n",
        "model = Sequential()\n",
        "model.add(Embedding(max_features, embed_dim, input_length=max_sequence_length))\n",
        "model.add(LSTM(embed_dim, dropout=0.2, recurrent_dropout=0.2, name=\"lstm\"))\n",
        "#model.add(Dense(12, input_dim=8, init='uniform', activation='relu'))\n",
        "#model.add(Dense(8, init='uniform', activation='relu'))\n",
        "model.add(Dense(2, kernel_initializer='uniform', activation='sigmoid'))\n",
        "\n",
        "# compila o modelo\n",
        "model.compile(loss='binary_crossentropy', optimizer='adam', metrics=['accuracy'])\n",
        "print(model.summary())"
      ],
      "execution_count": 0,
      "outputs": []
    },
    {
      "cell_type": "code",
      "metadata": {
        "id": "SZ6-xebOxkDM",
        "colab_type": "code",
        "colab": {
          "base_uri": "https://localhost:8080/",
          "height": 340
        },
        "outputId": "3b5f7df3-2370-4e62-dbcf-f8127c503c2b"
      },
      "source": [
        "# chama metodo para preparar dados\n",
        "X_train, X_test, Y_train, Y_test, word_index, tokenizer = prepare_data(data)\n",
        "print(X_train.shape, Y_train.shape)\n",
        "print(X_test.shape, Y_test.shape)\n",
        "\n",
        "# Cria o modelo\n",
        "input_shape = (max_sequence_length,)\n",
        "model_input = Input(shape=input_shape, name=\"input\", dtype='int32')\n",
        "embedding = Embedding(max_fatures, embed_dim, input_length=max_sequence_length, name=\"embedding\")(model_input)\n",
        "lstm = LSTM(embed_dim, dropout=0.2, recurrent_dropout=0.2, name=\"lstm\")(embedding)\n",
        "model_output = Dense(2, activation='softmax', name=\"softmax\")(lstm)\n",
        "model = Model(inputs=model_input, outputs=model_output)\n",
        "\n",
        "# compila o modelo\n",
        "model.compile(loss='binary_crossentropy', optimizer='adam', metrics=['accuracy'])\n",
        "print(model.summary())"
      ],
      "execution_count": 153,
      "outputs": [
        {
          "output_type": "stream",
          "text": [
            "(40000, 300) (40000, 2)\n",
            "(10000, 300) (10000, 2)\n",
            "Model: \"model_6\"\n",
            "_________________________________________________________________\n",
            "Layer (type)                 Output Shape              Param #   \n",
            "=================================================================\n",
            "input (InputLayer)           (None, 300)               0         \n",
            "_________________________________________________________________\n",
            "embedding (Embedding)        (None, 300, 128)          2560000   \n",
            "_________________________________________________________________\n",
            "lstm (LSTM)                  (None, 128)               131584    \n",
            "_________________________________________________________________\n",
            "softmax (Dense)              (None, 2)                 258       \n",
            "=================================================================\n",
            "Total params: 2,691,842\n",
            "Trainable params: 2,691,842\n",
            "Non-trainable params: 0\n",
            "_________________________________________________________________\n",
            "None\n"
          ],
          "name": "stdout"
        }
      ]
    },
    {
      "cell_type": "code",
      "metadata": {
        "id": "G5bb9PDI4x4f",
        "colab_type": "code",
        "colab": {}
      },
      "source": [
        "# Treinamento da rede neural\n",
        "# Verifica se existe um modelo treinado\n",
        "# True = carrega o modelo ja treinado\n",
        "# False = treina a rede e salva o modelo\n",
        "inicio = time.time()\n",
        "\n",
        "if os.path.exists('{}'.format(filename)):\n",
        "  try:\n",
        "    model.load_weights('{}'.format(filename))\n",
        "    print('Successful model loading!')\n",
        "  except:\n",
        "    print('No such file or directory!')\n",
        "else:\n",
        "  hist = model.fit(\n",
        "      X_train,\n",
        "      Y_train,\n",
        "      validation_data=(X_test, Y_test),\n",
        "      epochs=epochs,\n",
        "      batch_size=batch_size, \n",
        "      shuffle=True,\n",
        "      verbose=1)\n",
        "  \n",
        "  model.save_weights(filename)\n",
        "\n",
        "fim = time.time()\n",
        "print(calcRuntime(fim - inicio))"
      ],
      "execution_count": 0,
      "outputs": []
    },
    {
      "cell_type": "markdown",
      "metadata": {
        "id": "VAoHkwn132L8",
        "colab_type": "text"
      },
      "source": [
        "# Etapa 7 - Evaluate model / Validate model with new entries"
      ]
    },
    {
      "cell_type": "code",
      "metadata": {
        "id": "ELAiM4jwD_oE",
        "colab_type": "code",
        "colab": {}
      },
      "source": [
        "# Avaliando o modelo\n",
        "scores = model.evaluate(X_test, Y_test, verbose=0, batch_size=batch_size)\n",
        "print(\"Accuracy: %.2f%%\" % (scores[1] * 100))\n",
        "print(\"Erro: %.2f%%\" % (scores[0] * 100))"
      ],
      "execution_count": 0,
      "outputs": []
    },
    {
      "cell_type": "code",
      "metadata": {
        "id": "jriyr0eAXFZ7",
        "colab_type": "code",
        "colab": {
          "base_uri": "https://localhost:8080/",
          "height": 295
        },
        "outputId": "fe7d8e7d-5bb4-4866-c4d9-43ca6cd1d1a2"
      },
      "source": [
        "plt.figure()\n",
        "#plt.axis([0, 4, 0, 1])\n",
        "plt.plot(hist.history['accuracy'], lw=2.0, color='b', label='Acc Train')\n",
        "plt.plot(hist.history['val_accuracy'], lw=2.0, color='r', label='Acc Val')\n",
        "#plt.plot(hist.history['loss'], lw=2.0, color='darkviolet', label='Loss Train')\n",
        "#plt.plot(hist.history['val_loss'], lw=2.0, color='lime', label='Loss Val')\n",
        "plt.title('Classificador de sentimentos')\n",
        "plt.xlabel('Epochs')\n",
        "plt.ylabel('Acurácia')\n",
        "plt.legend(bbox_to_anchor=(1, 1), loc='upper left', borderaxespad=0.)\n",
        "plt.show()"
      ],
      "execution_count": 156,
      "outputs": [
        {
          "output_type": "display_data",
          "data": {
            "image/png": "[encoded data removed]",
            "text/plain": [
              "<Figure size 432x288 with 1 Axes>"
            ]
          },
          "metadata": {
            "tags": [],
            "needs_background": "light"
          }
        }
      ]
    },
    {
      "cell_type": "code",
      "metadata": {
        "id": "FNcqSq3vXCmW",
        "colab_type": "code",
        "colab": {
          "base_uri": "https://localhost:8080/",
          "height": 295
        },
        "outputId": "3a1cf91e-28ea-4df5-aa6c-51f775002ce1"
      },
      "source": [
        "# Plot\n",
        "plt.figure()\n",
        "plt.plot(hist.history['loss'], lw=2.0, color='b', label='Loss Train')\n",
        "plt.plot(hist.history['val_loss'], lw=2.0, color='r', label='Loss Val')\n",
        "plt.title('Classificador de sentimentos')\n",
        "plt.xlabel('Epochs')\n",
        "plt.ylabel('Cross-Entropy')\n",
        "plt.legend(loc='upper right')\n",
        "plt.show()"
      ],
      "execution_count": 157,
      "outputs": [
        {
          "output_type": "display_data",
          "data": {
            "image/png": "[encoded data removed]",
            "text/plain": [
              "<Figure size 432x288 with 1 Axes>"
            ]
          },
          "metadata": {
            "tags": [],
            "needs_background": "light"
          }
        }
      ]
    },
    {
      "cell_type": "code",
      "metadata": {
        "id": "VgMajaLc44As",
        "colab_type": "code",
        "colab": {}
      },
      "source": [
        "while True:\n",
        "    print(\"\\nType 0 to quit\")\n",
        "    sentence = input(\"input> \")\n",
        "\n",
        "    if sentence == \"0\":\n",
        "        break\n",
        "\n",
        "    new_text = [sentence]\n",
        "    new_text = tokenizer.texts_to_sequences(new_text)\n",
        "\n",
        "    new_text = pad_sequences(new_text, maxlen=max_sequence_length, dtype='int32', value=0)\n",
        "\n",
        "    sentiment = model.predict(new_text, batch_size=1, verbose=2)[0]\n",
        "\n",
        "    if (np.argmax(sentiment) == 0):\n",
        "        pred_proba = \"%.2f%%\" % (sentiment[0] * 100)\n",
        "        print(\"negativo => \", pred_proba)\n",
        "    elif (np.argmax(sentiment) == 1):\n",
        "        pred_proba = \"%.2f%%\" % (sentiment[1] * 100)\n",
        "        print(\"positivo => \", pred_proba)\n"
      ],
      "execution_count": 0,
      "outputs": []
    },
    {
      "cell_type": "markdown",
      "metadata": {
        "id": "UTtTmsr8h6Hs",
        "colab_type": "text"
      },
      "source": [
        "Review Original:\n",
        "There isn't too much in the way of suspense or surprises when it comes to the story, but there are some shocking moments and funny lines in this epic finale. Again, like many of the best Marvel films, the holes and flaws are covered up with humor and fan service, making everything okay. That being said, I did prefer Infinity War to this film, which really misses the leads of the other Marvel franchises that were \"snapped\" out. Overall, however, there are only a few ways you can wrap up the main story of the MCU, and this was a solid direction.\n",
        "\n",
        "Google Translate:\n",
        "Não há muito suspense ou surpresas quando se trata da história, mas há alguns momentos chocantes e frases engraçadas neste final épico. Novamente, como muitos dos melhores filmes da Marvel, os buracos e as falhas são cobertos com humor e serviço de fãs, deixando tudo bem. Dito isto, eu preferi a Guerra do Infinito a este filme, que realmente sente falta das pistas de outras franquias da Marvel que foram \"quebradas\". No geral, no entanto, existem apenas algumas maneiras de resumir a história principal do MCU, e essa foi uma direção sólida.\n",
        "\n",
        "Opinião: 8/10 estrelas\n",
        "\n",
        "Review Original:\n",
        "I had no choice but to watch it to finish the sequence. The worst of all the Avengers movies. Apart from some action scenes all the rest it is pure lame dialogues and poor performances. Purely made to make money out of a \"trendy\" public that are rating this movie high because I've never met one single person who has read the comics and like this garbage. At least, there will be no more of this, I hope.\n",
        "\n",
        "Google Translate:\n",
        "Eu não tive escolha, mas assisti-lo para terminar a sequência. O pior de todos os filmes dos Vingadores. Além de algumas cenas de ação, o resto são diálogos coxos e performances ruins. Puramente feito para ganhar dinheiro com um público \"na moda\" que está avaliando este filme como alto porque nunca conheci uma única pessoa que leu os quadrinhos e gostou desse lixo. Pelo menos, não haverá mais isso, espero.\n",
        "\n",
        "Opinião: 1/10 estrelas"
      ]
    },
    {
      "cell_type": "markdown",
      "metadata": {
        "id": "SmXwA5ooEAqu",
        "colab_type": "text"
      },
      "source": [
        "# Final - Unmount Drive"
      ]
    },
    {
      "cell_type": "code",
      "metadata": {
        "id": "sqsyKrc6dlYc",
        "colab_type": "code",
        "colab": {}
      },
      "source": [
        "drive.flush_and_unmount()\n",
        "print('All changes made in this colab session should now be visible in Drive.')"
      ],
      "execution_count": 0,
      "outputs": []
    }
  ]
}